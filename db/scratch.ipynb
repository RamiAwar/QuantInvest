{
 "cells": [
  {
   "cell_type": "markdown",
   "metadata": {},
   "source": [
    "## Financial Database \n",
    "\n",
    "### TODO: \n",
    "1. Build a database of end-of-day price data for a set of companies from the same market sector (to start with). Eventually extend to multiple market sectors.\n",
    "2. Write a function that calculates time-series correlation between two stocks. Eventually write other functions that let you interpret useful things about the market (or call functions from rami's stat predictor model)\n",
    "3. Build a company \"profile\": a set of important parameters about a company that give an idea of its valuation, and that an investor might be interested in\n",
    "4. Come up with a way to search for \"financial situations\" about companies using their time-series information and other data you could obtain. For example: \"how long was AAPL's volatility high after the 2008 market crash?\" \"what are the most correlated stocks in the technology sector?\"\n",
    "5. Make it possible to obtain any kind of high-level statement from a combination of other statements. You could use some kind of parsing API (like the one used by wolfram alpha, if there are any open-source ones) or create your own interpreter, using simple commands. Up till this point it is kind of like a financial wolfram alpha.\n",
    "6. Make the process automatic: write an algorithm that can detect an interesting pattern among all this higher-level data that you could create, and could notify you instantly. For example: \"the fundamentals of JP Morgan are very similar to those before the 2008 market crash, beware.\"\n",
    "\n",
    "## How it could be used\n",
    "\n",
    "The user could directly query situations they would be interested in, or other components such as the interactive graph could call it. The optimizer could call it to obtain information about a stock's volatility, returns, stability, etc.\n",
    "\n",
    "The end objective is to capture what the market is doing today, rather than try to predict it. These tools try to approximate the work of an analyst going through the numbers and making conclusions."
   ]
  },
  {
   "cell_type": "code",
   "execution_count": null,
   "metadata": {},
   "outputs": [],
   "source": [
    "# /Users/mbpr/Desktop/AUB/2018-2019/Spring 2018-2019/FYP/QuantInvest/db/db.json\n",
    "\n",
    "# REST API token:\n",
    "# pk_a91586fc254847e08b030f86765dabaf"
   ]
  },
  {
   "cell_type": "code",
   "execution_count": 2,
   "metadata": {},
   "outputs": [],
   "source": [
    "from iexfinance.stocks import Stock\n",
    "from iexfinance.stocks import get_historical_data\n",
    "from iexfinance.stocks import get_sector_performance\n",
    "from iexfinance.refdata import get_symbols\n",
    "from datetime import datetime\n",
    "\n",
    "import functions as fn\n",
    "import numpy as np\n",
    "import pandas as pd\n",
    "import json\n",
    "import importlib\n",
    "import requests"
   ]
  },
  {
   "cell_type": "code",
   "execution_count": 9,
   "metadata": {},
   "outputs": [
    {
     "data": {
      "text/plain": [
       "<module 'functions' from '/Users/mbpr/Desktop/AUB/2018-2019/Spring 2018-2019/FYP/QuantInvest/db/functions.py'>"
      ]
     },
     "execution_count": 9,
     "metadata": {},
     "output_type": "execute_result"
    }
   ],
   "source": [
    "# to re-import functions file after modification\n",
    "importlib.reload(fn)"
   ]
  },
  {
   "cell_type": "code",
   "execution_count": 10,
   "metadata": {
    "scrolled": false
   },
   "outputs": [],
   "source": [
    "start = datetime(2018, 2, 24)\n",
    "end = datetime(2019, 2, 24)"
   ]
  },
  {
   "cell_type": "markdown",
   "metadata": {},
   "source": [
    "##### TODO:\n",
    "- Build a table for each company containing relevant raw data. For now just include closing price. Later expand. \n",
    "- Store these tables in a json file.\n",
    "- Write interfaces to the file so it can update automatically.\n",
    "- Store information about companies in a workbook-type data structure. Each company's info is in one sheet, and there are many sheets. Sectors can be also grouped into meta-workbooks etc.\n",
    "- Write useful functions to extract high-level information from the data in the file."
   ]
  },
  {
   "cell_type": "code",
   "execution_count": 11,
   "metadata": {},
   "outputs": [],
   "source": [
    "symbols = get_symbols()"
   ]
  },
  {
   "cell_type": "code",
   "execution_count": 12,
   "metadata": {},
   "outputs": [
    {
     "name": "stdout",
     "output_type": "stream",
     "text": [
      "MSFT\n"
     ]
    }
   ],
   "source": [
    "print(fn.getSymbol(0, symbols, \"Microsoft Corporation\"))"
   ]
  },
  {
   "cell_type": "code",
   "execution_count": 13,
   "metadata": {},
   "outputs": [],
   "source": [
    "aapl = get_historical_data('AAPL', start, end, output_format = 'pandas')\n",
    "goog = get_historical_data('GOOG', start, end, output_format = 'pandas')\n",
    "msft = get_historical_data('MSFT', start, end, output_format = 'pandas')"
   ]
  },
  {
   "cell_type": "code",
   "execution_count": 45,
   "metadata": {},
   "outputs": [],
   "source": [
    "col1 = aapl['close']\n",
    "col2 = goog['close']\n",
    "col3 = msft['close']\n",
    "\n",
    "# make a 3d table to store all the companies' data, each in a 2d dataframe\n",
    "col = pd.concat([col1, col2, col3], 1)"
   ]
  },
  {
   "cell_type": "code",
   "execution_count": 47,
   "metadata": {},
   "outputs": [],
   "source": [
    "# duct tape solution until i figure out multiIndex\n",
    "col.columns = ['Apple', 'Google', 'Microsoft']"
   ]
  },
  {
   "cell_type": "code",
   "execution_count": 12,
   "metadata": {},
   "outputs": [],
   "source": [
    "# store the df in a pickle. later store the multiIndex locally, eventually use Nader's database\n",
    "col.to_pickle('/Users/mbpr/Desktop/AUB/2018-2019/Spring 2018-2019/FYP/QuantInvest/db/db.json')"
   ]
  },
  {
   "cell_type": "code",
   "execution_count": 13,
   "metadata": {},
   "outputs": [],
   "source": [
    "# read the pickle\n",
    "col = pd.read_pickle('db.json')"
   ]
  },
  {
   "cell_type": "code",
   "execution_count": 79,
   "metadata": {},
   "outputs": [
    {
     "data": {
      "text/plain": [
       "1"
      ]
     },
     "execution_count": 79,
     "metadata": {},
     "output_type": "execute_result"
    }
   ],
   "source": [
    "# answer the question: which stocks were most correlated in June 2018? automate this\n",
    "corr1 = fn.rollingCorr(0, col1, col2, 5)\n",
    "corr2 = fn.rollingCorr(0, col2, col3, 5)\n",
    "corr3 = fn.rollingCorr(0, col1, col3, 5)\n",
    "\n",
    "avg1 = np.average(corr1[corr1.notnull()])\n",
    "avg2 = np.average(corr2[corr1.notnull()])\n",
    "avg3 = np.average(corr3[corr1.notnull()])\n",
    "\n",
    "np.argmax([avg1, avg2, avg3])"
   ]
  },
  {
   "cell_type": "markdown",
   "metadata": {},
   "source": [
    "##### CONSOLE"
   ]
  },
  {
   "cell_type": "code",
   "execution_count": 3,
   "metadata": {},
   "outputs": [],
   "source": [
    "stocks = requests.get('https://cloud.iexapis.com/beta/stock/aapl/financials?token=pk_a91586fc254847e08b030f86765dabaf')"
   ]
  },
  {
   "cell_type": "code",
   "execution_count": 33,
   "metadata": {},
   "outputs": [
    {
     "data": {
      "text/plain": [
       "{'symbol': 'AAPL',\n",
       " 'balancesheet': [{'reportDate': '2018-12-31',\n",
       "   'currentCash': 44771000000,\n",
       "   'shortTermInvestments': 41656000000,\n",
       "   'receivables': 18077000000,\n",
       "   'inventory': 4988000000,\n",
       "   'otherCurrentAssets': 12432000000,\n",
       "   'currentAssets': 140828000000,\n",
       "   'longTermInvestments': 158608000000,\n",
       "   'propertyPlantEquipment': 39597000000,\n",
       "   'goodwill': 0,\n",
       "   'intangibleAssets': None,\n",
       "   'otherAssets': 34686000000,\n",
       "   'totalAssets': 373719000000,\n",
       "   'accountsPayable': 44293000000,\n",
       "   'currentLongTermDebt': 9772000000,\n",
       "   'otherCurrentLiabilities': 42249000000,\n",
       "   'totalCurrentLiabilities': 108283000000,\n",
       "   'longTermDebt': 92989000000,\n",
       "   'otherLiabilities': 23607000000,\n",
       "   'minorityInterest': 0,\n",
       "   'totalLiabilities': 255827000000,\n",
       "   'commonStock': 40970000000,\n",
       "   'retainedEarnings': 80510000000,\n",
       "   'treasuryStock': None,\n",
       "   'capitalSurplus': None,\n",
       "   'shareholderEquity': 117892000000,\n",
       "   'netTangibleAssets': 117892000000}]}"
      ]
     },
     "execution_count": 33,
     "metadata": {},
     "output_type": "execute_result"
    }
   ],
   "source": [
    "stocks.json()"
   ]
  }
 ],
 "metadata": {
  "kernelspec": {
   "display_name": "Python 3",
   "language": "python",
   "name": "python3"
  },
  "language_info": {
   "codemirror_mode": {
    "name": "ipython",
    "version": 3
   },
   "file_extension": ".py",
   "mimetype": "text/x-python",
   "name": "python",
   "nbconvert_exporter": "python",
   "pygments_lexer": "ipython3",
   "version": "3.7.1"
  }
 },
 "nbformat": 4,
 "nbformat_minor": 2
}
