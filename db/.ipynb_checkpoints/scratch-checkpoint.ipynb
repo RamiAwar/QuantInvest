{
 "cells": [
  {
   "cell_type": "markdown",
   "metadata": {},
   "source": [
    "## Financial Database \n",
    "\n",
    "### TODO: \n",
    "1. Build a database of end-of-day price data for a set of companies from the same market sector (to start with). Eventually extend to multiple market sectors.\n",
    "2. Write a function that calculates time-series correlation between two stocks. Eventually write other functions that let you interpret useful things about the market (or call functions from rami's stat predictor model)\n",
    "3. Build a company \"profile\": a set of important parameters about a company that give an idea of its valuation, and that an investor might be interested in\n",
    "4. Come up with a way to search for \"financial situations\" about companies using their time-series information and other data you could obtain. For example: \"how long was AAPL's volatility high after the 2008 market crash?\" \"what are the most correlated stocks in the technology sector?\"\n",
    "5. Make it possible to obtain any kind of high-level statement from a combination of other statements. You could use some kind of parsing API (like the one used by wolfram alpha, if there are any open-source ones) or create your own interpreter, using simple commands. Up till this point it is kind of like a financial wolfram alpha.\n",
    "6. Make the process automatic: write an algorithm that can detect an interesting pattern among all this higher-level data that you could create, and could notify you instantly. For example: \"the fundamentals of JP Morgan are very similar to those before the 2008 market crash, beware.\"\n",
    "\n",
    "## How it could be used\n",
    "\n",
    "The user could directly query situations they would be interested in, or other components such as the interactive graph could call it. The optimizer could call it to obtain information about a stock's volatility, returns, stability, etc.\n",
    "\n",
    "The end objective is to capture what the market is doing today, rather than try to predict it. These tools try to approximate the work of an analyst going through the numbers and making conclusions."
   ]
  },
  {
   "cell_type": "code",
   "execution_count": null,
   "metadata": {},
   "outputs": [],
   "source": [
    "# /Users/mbpr/Desktop/AUB/2018-2019/Spring 2018-2019/FYP/QuantInvest/db/db.json\n",
    "\n",
    "# REST API token:\n",
    "# pk_a91586fc254847e08b030f86765dabaf"
   ]
  },
  {
   "cell_type": "code",
   "execution_count": 8,
   "metadata": {},
   "outputs": [],
   "source": [
    "from iexfinance.stocks import Stock\n",
    "from iexfinance.stocks import get_historical_data\n",
    "from iexfinance.stocks import get_sector_performance\n",
    "from iexfinance.refdata import get_symbols\n",
    "from datetime import datetime\n",
    "\n",
    "import functions as fn\n",
    "import numpy as np\n",
    "import pandas as pd\n",
    "import json\n",
    "import importlib\n",
    "import requests"
   ]
  },
  {
   "cell_type": "code",
   "execution_count": 9,
   "metadata": {},
   "outputs": [
    {
     "data": {
      "text/plain": [
       "<module 'functions' from '/Users/mbpr/Desktop/AUB/2018-2019/Spring 2018-2019/FYP/QuantInvest/db/functions.py'>"
      ]
     },
     "execution_count": 9,
     "metadata": {},
     "output_type": "execute_result"
    }
   ],
   "source": [
    "# to re-import functions file after modification\n",
    "importlib.reload(fn)"
   ]
  },
  {
   "cell_type": "code",
   "execution_count": 10,
   "metadata": {
    "scrolled": false
   },
   "outputs": [],
   "source": [
    "start = datetime(2018, 2, 24)\n",
    "end = datetime(2019, 2, 24)"
   ]
  },
  {
   "cell_type": "markdown",
   "metadata": {},
   "source": [
    "##### TODO:\n",
    "- Build a table for each company containing relevant raw data. For now just include closing price. Later expand. \n",
    "- Store these tables in a json file.\n",
    "- Write interfaces to the file so it can update automatically.\n",
    "- Store information about companies in a workbook-type data structure. Each company's info is in one sheet, and there are many sheets. Sectors can be also grouped into meta-workbooks etc.\n",
    "- Write useful functions to extract high-level information from the data in the file."
   ]
  },
  {
   "cell_type": "code",
   "execution_count": 11,
   "metadata": {},
   "outputs": [],
   "source": [
    "symbols = get_symbols()"
   ]
  },
  {
   "cell_type": "code",
   "execution_count": 12,
   "metadata": {},
   "outputs": [
    {
     "name": "stdout",
     "output_type": "stream",
     "text": [
      "MSFT\n"
     ]
    }
   ],
   "source": [
    "print(fn.getSymbol(0, symbols, \"Microsoft Corporation\"))"
   ]
  },
  {
   "cell_type": "code",
   "execution_count": 13,
   "metadata": {},
   "outputs": [],
   "source": [
    "aapl = get_historical_data('AAPL', start, end, output_format = 'pandas')\n",
    "goog = get_historical_data('GOOG', start, end, output_format = 'pandas')\n",
    "msft = get_historical_data('MSFT', start, end, output_format = 'pandas')"
   ]
  },
  {
   "cell_type": "code",
   "execution_count": 45,
   "metadata": {},
   "outputs": [],
   "source": [
    "col1 = aapl['close']\n",
    "col2 = goog['close']\n",
    "col3 = msft['close']\n",
    "\n",
    "# make a 3d table to store all the companies' data, each in a 2d dataframe\n",
    "col = pd.concat([col1, col2, col3], 1)"
   ]
  },
  {
   "cell_type": "code",
   "execution_count": 47,
   "metadata": {},
   "outputs": [],
   "source": [
    "# duct tape solution until i figure out multiIndex\n",
    "col.columns = ['Apple', 'Google', 'Microsoft']"
   ]
  },
  {
   "cell_type": "code",
   "execution_count": 12,
   "metadata": {},
   "outputs": [],
   "source": [
    "# store the df in a pickle. later store the multiIndex locally, eventually use Nader's database\n",
    "col.to_pickle('/Users/mbpr/Desktop/AUB/2018-2019/Spring 2018-2019/FYP/QuantInvest/db/db.json')"
   ]
  },
  {
   "cell_type": "code",
   "execution_count": 13,
   "metadata": {},
   "outputs": [],
   "source": [
    "# read the pickle\n",
    "col = pd.read_pickle('db.json')"
   ]
  },
  {
   "cell_type": "code",
   "execution_count": 79,
   "metadata": {},
   "outputs": [
    {
     "data": {
      "text/plain": [
       "1"
      ]
     },
     "execution_count": 79,
     "metadata": {},
     "output_type": "execute_result"
    }
   ],
   "source": [
    "# answer the question: which stocks were most correlated in June 2018? automate this\n",
    "corr1 = fn.rollingCorr(0, col1, col2, 5)\n",
    "corr2 = fn.rollingCorr(0, col2, col3, 5)\n",
    "corr3 = fn.rollingCorr(0, col1, col3, 5)\n",
    "\n",
    "avg1 = np.average(corr1[corr1.notnull()])\n",
    "avg2 = np.average(corr2[corr1.notnull()])\n",
    "avg3 = np.average(corr3[corr1.notnull()])\n",
    "\n",
    "np.argmax([avg1, avg2, avg3])"
   ]
  },
  {
   "cell_type": "markdown",
   "metadata": {},
   "source": [
    "##### CONSOLE"
   ]
  },
  {
   "cell_type": "code",
   "execution_count": 14,
   "metadata": {},
   "outputs": [
    {
     "data": {
      "text/html": [
       "<div>\n",
       "<style scoped>\n",
       "    .dataframe tbody tr th:only-of-type {\n",
       "        vertical-align: middle;\n",
       "    }\n",
       "\n",
       "    .dataframe tbody tr th {\n",
       "        vertical-align: top;\n",
       "    }\n",
       "\n",
       "    .dataframe thead th {\n",
       "        text-align: right;\n",
       "    }\n",
       "</style>\n",
       "<table border=\"1\" class=\"dataframe\">\n",
       "  <thead>\n",
       "    <tr style=\"text-align: right;\">\n",
       "      <th></th>\n",
       "      <th>open</th>\n",
       "      <th>high</th>\n",
       "      <th>low</th>\n",
       "      <th>close</th>\n",
       "      <th>volume</th>\n",
       "    </tr>\n",
       "    <tr>\n",
       "      <th>date</th>\n",
       "      <th></th>\n",
       "      <th></th>\n",
       "      <th></th>\n",
       "      <th></th>\n",
       "      <th></th>\n",
       "    </tr>\n",
       "  </thead>\n",
       "  <tbody>\n",
       "    <tr>\n",
       "      <th>2018-02-26</th>\n",
       "      <td>173.7049</td>\n",
       "      <td>176.6993</td>\n",
       "      <td>173.5670</td>\n",
       "      <td>176.2856</td>\n",
       "      <td>38162174</td>\n",
       "    </tr>\n",
       "    <tr>\n",
       "      <th>2018-02-27</th>\n",
       "      <td>176.4137</td>\n",
       "      <td>177.7730</td>\n",
       "      <td>175.4878</td>\n",
       "      <td>175.7143</td>\n",
       "      <td>38928125</td>\n",
       "    </tr>\n",
       "    <tr>\n",
       "      <th>2018-02-28</th>\n",
       "      <td>176.5713</td>\n",
       "      <td>177.9059</td>\n",
       "      <td>175.3794</td>\n",
       "      <td>175.4484</td>\n",
       "      <td>37782138</td>\n",
       "    </tr>\n",
       "    <tr>\n",
       "      <th>2018-03-01</th>\n",
       "      <td>175.8621</td>\n",
       "      <td>177.0785</td>\n",
       "      <td>170.0703</td>\n",
       "      <td>172.3752</td>\n",
       "      <td>48801970</td>\n",
       "    </tr>\n",
       "    <tr>\n",
       "      <th>2018-03-02</th>\n",
       "      <td>170.2082</td>\n",
       "      <td>173.6557</td>\n",
       "      <td>169.8634</td>\n",
       "      <td>173.5670</td>\n",
       "      <td>38453950</td>\n",
       "    </tr>\n",
       "  </tbody>\n",
       "</table>\n",
       "</div>"
      ],
      "text/plain": [
       "                open      high       low     close    volume\n",
       "date                                                        \n",
       "2018-02-26  173.7049  176.6993  173.5670  176.2856  38162174\n",
       "2018-02-27  176.4137  177.7730  175.4878  175.7143  38928125\n",
       "2018-02-28  176.5713  177.9059  175.3794  175.4484  37782138\n",
       "2018-03-01  175.8621  177.0785  170.0703  172.3752  48801970\n",
       "2018-03-02  170.2082  173.6557  169.8634  173.5670  38453950"
      ]
     },
     "execution_count": 14,
     "metadata": {},
     "output_type": "execute_result"
    }
   ],
   "source": [
    "aapl.head()"
   ]
  }
 ],
 "metadata": {
  "kernelspec": {
   "display_name": "Python 3",
   "language": "python",
   "name": "python3"
  },
  "language_info": {
   "codemirror_mode": {
    "name": "ipython",
    "version": 3
   },
   "file_extension": ".py",
   "mimetype": "text/x-python",
   "name": "python",
   "nbconvert_exporter": "python",
   "pygments_lexer": "ipython3",
   "version": "3.7.1"
  }
 },
 "nbformat": 4,
 "nbformat_minor": 2
}
