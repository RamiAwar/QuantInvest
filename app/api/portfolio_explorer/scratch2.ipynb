{
 "cells": [
  {
   "cell_type": "code",
   "execution_count": 140,
   "metadata": {},
   "outputs": [
    {
     "data": {
      "text/plain": [
       "<module 'fundamental' from '/Users/mbpr/Desktop/AUB/2018-2019/Spring 2018-2019/FYP/portfolio-explorer/fundamental.py'>"
      ]
     },
     "execution_count": 140,
     "metadata": {},
     "output_type": "execute_result"
    }
   ],
   "source": [
    "import numpy as np\n",
    "import company as co\n",
    "import fundamental as fd\n",
    "import importlib\n",
    "import matplotlib.pyplot as plt\n",
    "\n",
    "importlib.reload(co)\n",
    "importlib.reload(fd)"
   ]
  },
  {
   "cell_type": "code",
   "execution_count": 142,
   "metadata": {},
   "outputs": [],
   "source": [
    "msft = co.Company('msft')"
   ]
  },
  {
   "cell_type": "code",
   "execution_count": 94,
   "metadata": {},
   "outputs": [],
   "source": [
    "msft.update('pk_a91586fc254847e08b030f86765dabaf')"
   ]
  },
  {
   "cell_type": "code",
   "execution_count": 98,
   "metadata": {},
   "outputs": [
    {
     "data": {
      "text/plain": [
       "{'tickerSymbol': 'msft',\n",
       " 'info': {'symbol': 'MSFT',\n",
       "  'companyName': 'Microsoft Corp.',\n",
       "  'exchange': 'NASDAQ',\n",
       "  'industry': 'Packaged Software',\n",
       "  'website': 'http://www.microsoft.com',\n",
       "  'description': 'Develops, manufactures and distributes software products',\n",
       "  'CEO': 'Satya Nadella',\n",
       "  'securityName': 'Microsoft Corporation',\n",
       "  'issueType': 'cs',\n",
       "  'sector': 'Technology Services',\n",
       "  'employees': 131000,\n",
       "  'tags': ['Technology Services', 'Packaged Software']},\n",
       " 'peers': [],\n",
       " 'marketPrice': 117.65,\n",
       " 'sharesOutstanding': 7672210000,\n",
       " 'marketCap': 897648570000,\n",
       " 'equity': array([82718000000, 72394000000, 71997000000, 80083000000]),\n",
       " 'debt': array([76367000000, 78473000000, 40783000000, 27808000000]),\n",
       " 'totalCurrentAssets': array([258848000000, 241086000000, 193694000000, 176223000000]),\n",
       " 'totalCurrentLiabilities': array([176130000000, 168692000000, 121697000000,  96140000000]),\n",
       " 'netIncome': array([16571000000, 21204000000, 16798000000, 12193000000]),\n",
       " 'operatingActivities': array([43884000000, 39507000000, 33325000000, 29080000000]),\n",
       " 'investingActivities': array([ -6061000000, -46781000000, -23950000000, -23001000000]),\n",
       " 'financingActivities': array([-33590000000,   8408000000,  -8393000000,  -9080000000]),\n",
       " 'debtEquityRatio': array([0.92322106, 1.08397105, 0.56645416, 0.34723974]),\n",
       " 'bookValue': array([10.78150885,  9.43587311,  9.38412791, 10.43806152]),\n",
       " 'earningsPerShare': array([2.1598731 , 2.76374083, 2.1894604 , 1.58924221]),\n",
       " 'peRatio': array([7.09975258e-09, 5.54848142e-09, 7.00380998e-09, 9.64897892e-09]),\n",
       " 'pbvRatio': array([10.91220178, 12.46837454, 12.53712664, 11.27124991]),\n",
       " 'risk': array([106.86849115, 108.21412689, 108.26587209, 107.21193848]),\n",
       " 'marginOfSafety': array([7.03085423e+08, 6.15333617e+08, 6.11959201e+08, 6.80688483e+08]),\n",
       " 'currentRatio': array([1.46964174, 1.42914898, 1.59160867, 1.83298315])}"
      ]
     },
     "execution_count": 98,
     "metadata": {},
     "output_type": "execute_result"
    }
   ],
   "source": [
    "msft.data"
   ]
  },
  {
   "cell_type": "code",
   "execution_count": 148,
   "metadata": {},
   "outputs": [],
   "source": [
    "y = msft.data['investingActivities']\n"
   ]
  },
  {
   "cell_type": "code",
   "execution_count": 145,
   "metadata": {},
   "outputs": [
    {
     "data": {
      "text/plain": [
       "<company.Company at 0x122356588>"
      ]
     },
     "execution_count": 145,
     "metadata": {},
     "output_type": "execute_result"
    }
   ],
   "source": [
    "msft"
   ]
  },
  {
   "cell_type": "code",
   "execution_count": 149,
   "metadata": {},
   "outputs": [
    {
     "ename": "TypeError",
     "evalue": "'>' not supported between instances of 'NoneType' and 'float'",
     "output_type": "error",
     "traceback": [
      "\u001b[0;31m---------------------------------------------------------------------------\u001b[0m",
      "\u001b[0;31mTypeError\u001b[0m                                 Traceback (most recent call last)",
      "\u001b[0;32m<ipython-input-149-461ef77e13c2>\u001b[0m in \u001b[0;36m<module>\u001b[0;34m\u001b[0m\n\u001b[1;32m      1\u001b[0m \u001b[0mf\u001b[0m \u001b[0;34m=\u001b[0m \u001b[0mfd\u001b[0m\u001b[0;34m.\u001b[0m\u001b[0mFundamental\u001b[0m\u001b[0;34m(\u001b[0m\u001b[0;34m)\u001b[0m\u001b[0;34m\u001b[0m\u001b[0;34m\u001b[0m\u001b[0m\n\u001b[0;32m----> 2\u001b[0;31m \u001b[0mf\u001b[0m\u001b[0;34m.\u001b[0m\u001b[0moverview\u001b[0m\u001b[0;34m(\u001b[0m\u001b[0mmsft\u001b[0m\u001b[0;34m)\u001b[0m\u001b[0;34m\u001b[0m\u001b[0;34m\u001b[0m\u001b[0m\n\u001b[0m",
      "\u001b[0;32m~/Desktop/AUB/2018-2019/Spring 2018-2019/FYP/portfolio-explorer/fundamental.py\u001b[0m in \u001b[0;36moverview\u001b[0;34m(self, company)\u001b[0m\n\u001b[1;32m     31\u001b[0m     \u001b[0;31m# return an overview of the health and fundamentals of a company\u001b[0m\u001b[0;34m\u001b[0m\u001b[0;34m\u001b[0m\u001b[0;34m\u001b[0m\u001b[0m\n\u001b[1;32m     32\u001b[0m     \u001b[0;32mdef\u001b[0m \u001b[0moverview\u001b[0m\u001b[0;34m(\u001b[0m\u001b[0mself\u001b[0m\u001b[0;34m,\u001b[0m \u001b[0mcompany\u001b[0m\u001b[0;34m)\u001b[0m\u001b[0;34m:\u001b[0m\u001b[0;34m\u001b[0m\u001b[0;34m\u001b[0m\u001b[0m\n\u001b[0;32m---> 33\u001b[0;31m         \u001b[0;32mif\u001b[0m\u001b[0;34m(\u001b[0m\u001b[0mnp\u001b[0m\u001b[0;34m.\u001b[0m\u001b[0many\u001b[0m\u001b[0;34m(\u001b[0m\u001b[0mcompany\u001b[0m\u001b[0;34m.\u001b[0m\u001b[0mdata\u001b[0m\u001b[0;34m[\u001b[0m\u001b[0;34m'debtEquityRatio'\u001b[0m\u001b[0;34m]\u001b[0m \u001b[0;34m>\u001b[0m \u001b[0;36m0.5\u001b[0m\u001b[0;34m)\u001b[0m\u001b[0;34m)\u001b[0m\u001b[0;34m:\u001b[0m\u001b[0;34m\u001b[0m\u001b[0;34m\u001b[0m\u001b[0m\n\u001b[0m\u001b[1;32m     34\u001b[0m             \u001b[0mprint\u001b[0m\u001b[0;34m(\u001b[0m\u001b[0;34m'Your company has a significant amount of debt. You might want to check its cash flow statement.'\u001b[0m\u001b[0;34m)\u001b[0m\u001b[0;34m\u001b[0m\u001b[0;34m\u001b[0m\u001b[0m\n\u001b[1;32m     35\u001b[0m         \u001b[0;32mif\u001b[0m\u001b[0;34m(\u001b[0m\u001b[0mnp\u001b[0m\u001b[0;34m.\u001b[0m\u001b[0many\u001b[0m\u001b[0;34m(\u001b[0m\u001b[0mcompany\u001b[0m\u001b[0;34m.\u001b[0m\u001b[0mdata\u001b[0m\u001b[0;34m[\u001b[0m\u001b[0;34m'peRatio'\u001b[0m\u001b[0;34m]\u001b[0m \u001b[0;34m>\u001b[0m \u001b[0;36m15\u001b[0m\u001b[0;34m)\u001b[0m\u001b[0;34m)\u001b[0m\u001b[0;34m:\u001b[0m\u001b[0;34m\u001b[0m\u001b[0;34m\u001b[0m\u001b[0m\n",
      "\u001b[0;31mTypeError\u001b[0m: '>' not supported between instances of 'NoneType' and 'float'"
     ]
    }
   ],
   "source": [
    "f = fd.Fundamental()\n",
    "f.overview(msft)"
   ]
  },
  {
   "cell_type": "code",
   "execution_count": 139,
   "metadata": {},
   "outputs": [
    {
     "data": {
      "text/plain": [
       "<company.Company at 0x11a1f9da0>"
      ]
     },
     "execution_count": 139,
     "metadata": {},
     "output_type": "execute_result"
    }
   ],
   "source": [
    "msft"
   ]
  }
 ],
 "metadata": {
  "kernelspec": {
   "display_name": "Python 3",
   "language": "python",
   "name": "python3"
  },
  "language_info": {
   "codemirror_mode": {
    "name": "ipython",
    "version": 3
   },
   "file_extension": ".py",
   "mimetype": "text/x-python",
   "name": "python",
   "nbconvert_exporter": "python",
   "pygments_lexer": "ipython3",
   "version": "3.7.1"
  }
 },
 "nbformat": 4,
 "nbformat_minor": 2
}
